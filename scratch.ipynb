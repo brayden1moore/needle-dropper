{
 "cells": [
  {
   "cell_type": "code",
   "execution_count": 23,
   "metadata": {},
   "outputs": [],
   "source": [
    "import time\n",
    "import yt_dlp\n",
    "import random\n",
    "import spotipy\n",
    "from pygame import mixer \n",
    "from pprint import pprint\n",
    "from datetime import datetime\n",
    "from pydub import AudioSegment \n",
    "from ytmusicapi import YTMusic\n",
    "from spotipy.oauth2 import SpotifyClientCredentials\n",
    "\n",
    "CLIENT_ID = \"3a37e2adaf224237b96d901fd80b1829\"\n",
    "CLIENT_SECRET = \"1c58b4a6904f451b8a205472a2a18f0e\"\n",
    "creds = SpotifyClientCredentials(client_id=CLIENT_ID, client_secret=CLIENT_SECRET)\n",
    "ytmusic = YTMusic('oauth.json') \n",
    "sp = spotipy.Spotify(client_credentials_manager=creds)\n",
    "\n",
    "with open('genres.txt', 'r') as f:\n",
    "    genres = f.read().split('\\n')\n",
    "\n",
    "def get_random_song(genre=None, start_year=None, end_year=None):\n",
    "    if not genre:\n",
    "        genre = genres[random.randint(0,len(genres)-1)]\n",
    "    if not end_year:\n",
    "        datetime.now().year\n",
    "    if not start_year:\n",
    "        parameters = f\"genre:{genre}\"\n",
    "    else:\n",
    "        parameters = f\"genre:{genre} year:{start_year}-{end_year}\"\n",
    "\n",
    "    results = sp.search(q=parameters, type=\"track\", limit=1, offset=random.randint(0,1000))\n",
    "    artist = results['tracks']['items'][0]['album']['artists'][0]['name']\n",
    "    title = results['tracks']['items'][0]['name']\n",
    "    query = f'{title} by {artist}'\n",
    "    \n",
    "    search_results = ytmusic.search(query, filter='songs', limit=1)\n",
    "    id = search_results[0]['videoId']\n",
    "    duration = search_results[0]['duration_seconds']\n",
    "    return query, id, duration\n",
    "\n",
    "def download_song(id):\n",
    "    ydl_opts = {\n",
    "        'format': 'bestaudio/best',\n",
    "        'outtmpl':'%(title)s',   \n",
    "        'embedthumbnail': True,\n",
    "        'postprocessors': [{\n",
    "            'key': 'FFmpegExtractAudio',\n",
    "            'preferredcodec': 'mp3',\n",
    "            'preferredquality': '192'\n",
    "        }, {\n",
    "            'key': 'FFmpegMetadata',\n",
    "        }]\n",
    "    }\n",
    "\n",
    "    with yt_dlp.YoutubeDL(ydl_opts) as ydl:\n",
    "        info_dict = ydl.extract_info(f'https://www.youtube.com/watch?v={id}', download=True)\n",
    "\n",
    "    filename = ydl.prepare_filename(info_dict)\n",
    "    print(f\"The downloaded file name is: {filename}\")\n",
    "    return filename\n",
    "\n",
    "def create_segment(title, duration):\n",
    "    song = AudioSegment.from_mp3(f\"{title}.mp3\") \n",
    "    start_time = random.randint(0,duration-5) * 1000\n",
    "    segment = song[start_time:start_time+5000]\n",
    "    segment.export(f\"{title} (Clip).mp3\", format=\"mp3\") "
   ]
  },
  {
   "cell_type": "code",
   "execution_count": 24,
   "metadata": {},
   "outputs": [
    {
     "name": "stdout",
     "output_type": "stream",
     "text": [
      "[youtube] Extracting URL: https://www.youtube.com/watch?v=SXnyxmBBFPk\n",
      "[youtube] SXnyxmBBFPk: Downloading webpage\n",
      "[youtube] SXnyxmBBFPk: Downloading ios player API JSON\n",
      "[youtube] SXnyxmBBFPk: Downloading mweb player API JSON\n",
      "[youtube] SXnyxmBBFPk: Downloading m3u8 information\n",
      "[info] SXnyxmBBFPk: Downloading 1 format(s): 251\n",
      "[download] Destination: El son de las heridas\n",
      "[download] 100% of    4.36MiB in 00:00:02 at 1.60MiB/s   \n",
      "[ExtractAudio] Destination: El son de las heridas.mp3\n",
      "Deleting original file El son de las heridas (pass -k to keep)\n",
      "[Metadata] Adding metadata to \"El son de las heridas.mp3\"\n",
      "The downloaded file name is: El son de las heridas\n"
     ]
    }
   ],
   "source": [
    "name, id, duration = get_random_song(\"Mexican Son\", 1969, 2017)\n",
    "title = download_song(id) \n",
    "create_segment(title, duration)"
   ]
  }
 ],
 "metadata": {
  "kernelspec": {
   "display_name": "Python 3",
   "language": "python",
   "name": "python3"
  },
  "language_info": {
   "codemirror_mode": {
    "name": "ipython",
    "version": 3
   },
   "file_extension": ".py",
   "mimetype": "text/x-python",
   "name": "python",
   "nbconvert_exporter": "python",
   "pygments_lexer": "ipython3",
   "version": "3.12.3"
  }
 },
 "nbformat": 4,
 "nbformat_minor": 2
}
